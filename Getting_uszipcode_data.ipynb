{
 "cells": [
  {
   "cell_type": "markdown",
   "metadata": {},
   "source": [
    "# Demographic and Economic data per zipcode\n",
    "* Option 1: Use US census (community) data\n",
    "* Option 2: Use Python module uszipcode"
   ]
  },
  {
   "cell_type": "markdown",
   "metadata": {},
   "source": [
    " I am now using the Python module [uszipcode](https://uszipcode.readthedocs.io/index.html#)  to get demographic and economic data per zipcode. Only problem so far: it needs to be installed via pip. \n",
    "```python\n",
    "import sys\n",
    "!{sys.executable} -m pip install uszipcode\n",
    "```\n",
    "The added complexity is to ensure that only the local Jupyter environment is affected, see [Installing Python Packages from a Jupyter Notebook](https://jakevdp.github.io/blog/2017/12/05/installing-python-packages-from-jupyter/).\n",
    "\n",
    "Note: The data is stored in a sqllite database that one downloads. Presumably, one could query the database directly instead of using the few exposed methods. \"The Zipcode and SimpleZipcode are actually sqlalchemy orm declarative base class.\""
   ]
  },
  {
   "cell_type": "code",
   "execution_count": null,
   "metadata": {},
   "outputs": [],
   "source": [
    "import sys\n",
    "!{sys.executable} -m pip install uszipcode"
   ]
  },
  {
   "cell_type": "markdown",
   "metadata": {},
   "source": [
    "\n",
    "## What kind of data do we have?\n",
    "\"uszipcode has two backend database, SimpleZipcode and Zipcode. Zipcode has more info, but the database file is 450MB (takes more time to download).\""
   ]
  },
  {
   "cell_type": "code",
   "execution_count": 2,
   "metadata": {},
   "outputs": [],
   "source": [
    "from uszipcode import SearchEngine, SimpleZipcode, Zipcode"
   ]
  },
  {
   "cell_type": "code",
   "execution_count": 3,
   "metadata": {},
   "outputs": [],
   "source": [
    "zip = \"10001\"\n",
    "search = SearchEngine(simple_zipcode=True, db_file_dir=\"./tmp\") # set simple_zipcode=False to use rich info database\n",
    "zipcode = search.by_zipcode(zip)"
   ]
  },
  {
   "cell_type": "markdown",
   "metadata": {},
   "source": [
    " Choose which directory you want to use to download the database file. \n",
    " \n",
    "```python\n",
    "  search = SearchENgine(db_file_dir=\"/tmp\")\n",
    "```\n"
   ]
  },
  {
   "cell_type": "code",
   "execution_count": 4,
   "metadata": {},
   "outputs": [
    {
     "data": {
      "text/plain": [
       "['10001',\n",
       " 'Standard',\n",
       " 'New York',\n",
       " 'New York, NY',\n",
       " ['New York'],\n",
       " 'New York County',\n",
       " 'NY',\n",
       " 40.75,\n",
       " -73.99,\n",
       " 'Eastern',\n",
       " 0.9090909090909091,\n",
       " ['718', '917', '347', '646'],\n",
       " 21102,\n",
       " 33959.0,\n",
       " 0.62,\n",
       " 0.0,\n",
       " 12476,\n",
       " 11031,\n",
       " 650200,\n",
       " 81671,\n",
       " -74.008621,\n",
       " -73.984076,\n",
       " 40.759731,\n",
       " 40.743451]"
      ]
     },
     "execution_count": 4,
     "metadata": {},
     "output_type": "execute_result"
    }
   ],
   "source": [
    "zipcode.values() # to list"
   ]
  },
  {
   "cell_type": "markdown",
   "metadata": {},
   "source": [
    "Alternatives\n",
    "```python\n",
    "zipcode.to_dict() # to dict\n",
    "zipcode.to_json() # to json\n",
    "```"
   ]
  },
  {
   "cell_type": "markdown",
   "metadata": {},
   "source": [
    "## The finer view\n",
    "\n"
   ]
  },
  {
   "cell_type": "code",
   "execution_count": 5,
   "metadata": {},
   "outputs": [],
   "source": [
    "search = SearchEngine(simple_zipcode=False, db_file_dir=\"./tmp\") "
   ]
  },
  {
   "cell_type": "code",
   "execution_count": 6,
   "metadata": {},
   "outputs": [],
   "source": [
    "zip = \"10001\"\n",
    "zipcode = search.by_zipcode(zip)"
   ]
  },
  {
   "cell_type": "code",
   "execution_count": null,
   "metadata": {},
   "outputs": [],
   "source": [
    "zipcode.keys()"
   ]
  },
  {
   "cell_type": "markdown",
   "metadata": {},
   "source": [
    "## Which variables to keep?\n",
    "For space reasons, we may want to prune the database a bit."
   ]
  },
  {
   "cell_type": "code",
   "execution_count": 8,
   "metadata": {},
   "outputs": [],
   "source": [
    "vars = ['zipcode_type',\n",
    " 'major_city',\n",
    " 'post_office_city',\n",
    " 'common_city_list',\n",
    " 'county',\n",
    " 'state',\n",
    " 'lat',\n",
    " 'lng',\n",
    " 'timezone',\n",
    " 'radius_in_miles',\n",
    " 'area_code_list',\n",
    " 'population',\n",
    " 'population_density',\n",
    " 'land_area_in_sqmi',\n",
    " 'water_area_in_sqmi',\n",
    " 'housing_units',\n",
    " 'occupied_housing_units',\n",
    " 'median_home_value',\n",
    " 'median_household_income',\n",
    " \n",
    " 'zipcode',\n",
    " \n",
    " 'population_by_year',\n",
    " 'population_by_age',\n",
    " 'population_by_gender',\n",
    " 'population_by_race',\n",
    " 'head_of_household_by_age',\n",
    " 'families_vs_singles',\n",
    " 'households_with_kids',\n",
    " 'children_by_age',\n",
    " 'housing_type',\n",
    " 'year_housing_was_built',\n",
    " 'housing_occupancy',\n",
    " 'vancancy_reason',\n",
    " 'owner_occupied_home_values',\n",
    " 'rental_properties_by_number_of_rooms',\n",
    " 'monthly_rent_including_utilities_studio_apt',\n",
    " 'monthly_rent_including_utilities_1_b',\n",
    " 'monthly_rent_including_utilities_2_b',\n",
    " 'monthly_rent_including_utilities_3plus_b',\n",
    " 'employment_status',\n",
    " 'average_household_income_over_time',\n",
    " 'household_income',\n",
    " 'annual_individual_earnings',\n",
    " 'sources_of_household_income____percent_of_households_receiving_income',\n",
    " 'sources_of_household_income____average_income_per_household_by_income_source',\n",
    " 'household_investment_income____percent_of_households_receiving_investment_income',\n",
    " 'household_investment_income____average_income_per_household_by_income_source',\n",
    " 'household_retirement_income____percent_of_households_receiving_retirement_incom',\n",
    " 'household_retirement_income____average_income_per_household_by_income_source',\n",
    " 'source_of_earnings',\n",
    " 'means_of_transportation_to_work_for_workers_16_and_over',\n",
    " 'travel_time_to_work_in_minutes',\n",
    " 'educational_attainment_for_population_25_and_over',\n",
    " 'school_enrollment_age_3_to_17']\n"
   ]
  },
  {
   "cell_type": "markdown",
   "metadata": {},
   "source": [
    "## Which zipcodes to consider?\n",
    "Determined by ev hub data. \n",
    "PROBLEM: See below. The zipcodes from the registration database are a bit dubious. We may have to clean the registration database before we can use them as is."
   ]
  },
  {
   "cell_type": "code",
   "execution_count": null,
   "metadata": {},
   "outputs": [],
   "source": [
    "import pandas as pd"
   ]
  },
  {
   "cell_type": "code",
   "execution_count": null,
   "metadata": {},
   "outputs": [],
   "source": [
    "url = \"https://raw.githubusercontent.com/siddhantmaharana/atlytics_team_recylers/master/data/zip_data.csv\""
   ]
  },
  {
   "cell_type": "code",
   "execution_count": null,
   "metadata": {},
   "outputs": [],
   "source": [
    "zip_df = pd.read_csv(url)"
   ]
  },
  {
   "cell_type": "code",
   "execution_count": null,
   "metadata": {},
   "outputs": [],
   "source": [
    "zip_df.head()"
   ]
  },
  {
   "cell_type": "code",
   "execution_count": null,
   "metadata": {},
   "outputs": [],
   "source": [
    "zip_df[\"ZIP Code\"].value_counts()"
   ]
  },
  {
   "cell_type": "code",
   "execution_count": null,
   "metadata": {},
   "outputs": [],
   "source": [
    "# Problem ZIP Code 94304 is  PALO ALTO CA\n",
    "zip_df[zip_df[\"ZIP Code\"]=='94304.0']"
   ]
  },
  {
   "cell_type": "code",
   "execution_count": null,
   "metadata": {},
   "outputs": [],
   "source": [
    "zip_df[zip_df[\"ZIP Code\"]=='H2C2G']\n",
    "\n"
   ]
  },
  {
   "cell_type": "markdown",
   "metadata": {},
   "source": [
    "## Which zipcodes to consider, a state based approach."
   ]
  },
  {
   "cell_type": "code",
   "execution_count": null,
   "metadata": {},
   "outputs": [],
   "source": [
    "Let simply use all the zipcodes of a given state."
   ]
  },
  {
   "cell_type": "code",
   "execution_count": 9,
   "metadata": {},
   "outputs": [],
   "source": [
    "res_RI = search.by_state(\"Rhode Island\")  # a list of dictionaries"
   ]
  },
  {
   "cell_type": "code",
   "execution_count": 10,
   "metadata": {},
   "outputs": [
    {
     "data": {
      "text/plain": [
       "['02804', '02806', '02808', '02809', '02812']"
      ]
     },
     "execution_count": 10,
     "metadata": {},
     "output_type": "execute_result"
    }
   ],
   "source": [
    "[ x.zipcode for x in res_RI] "
   ]
  },
  {
   "cell_type": "markdown",
   "metadata": {},
   "source": [
    "There are 90 zip codes in Rhode Island. Why do we have 5 rows only? There is a limit on returns, 5 is the default."
   ]
  },
  {
   "cell_type": "code",
   "execution_count": null,
   "metadata": {},
   "outputs": [],
   "source": [
    "res_RI = search.by_state(\"Rhode Island\", returns=None)\n",
    "[ x.zipcode for x in res_RI] "
   ]
  },
  {
   "cell_type": "markdown",
   "metadata": {},
   "source": [
    "#### Better code"
   ]
  },
  {
   "cell_type": "code",
   "execution_count": null,
   "metadata": {},
   "outputs": [],
   "source": [
    "from uszipcode import SearchEngine, SimpleZipcode, Zipcode\n",
    "\n",
    "with SearchEngine() as search:\n",
    "    res_RI_2 = search.by_state(\"Rhode Island\")  \n",
    "    lst = [ x.zipcode for x in res_RI_2] \n",
    "    \n",
    "    \n"
   ]
  },
  {
   "cell_type": "markdown",
   "metadata": {},
   "source": [
    "#### Boilerplate testing"
   ]
  },
  {
   "cell_type": "code",
   "execution_count": null,
   "metadata": {},
   "outputs": [],
   "source": [
    "dict(res_RI[0].items())"
   ]
  },
  {
   "cell_type": "code",
   "execution_count": null,
   "metadata": {},
   "outputs": [],
   "source": [
    "# {key: d[key] for key in d.viewkeys() & l}"
   ]
  },
  {
   "cell_type": "code",
   "execution_count": null,
   "metadata": {},
   "outputs": [],
   "source": [
    "list_of_dict = [ {key: (dict(x.items())[key]) for key in vars} for x in res_RI]"
   ]
  },
  {
   "cell_type": "code",
   "execution_count": null,
   "metadata": {},
   "outputs": [],
   "source": [
    "table = pd.DataFrame(list_of_dict)"
   ]
  },
  {
   "cell_type": "markdown",
   "metadata": {},
   "source": [
    "## Building the table"
   ]
  },
  {
   "cell_type": "code",
   "execution_count": 21,
   "metadata": {},
   "outputs": [],
   "source": [
    "import pandas as pd\n",
    "from uszipcode import SearchEngine, SimpleZipcode, Zipcode"
   ]
  },
  {
   "cell_type": "code",
   "execution_count": 22,
   "metadata": {},
   "outputs": [],
   "source": [
    "ev_reg_files = ['co_ev_registrations_public.xlsx',\n",
    " 'ct_ev_registrations.xlsx',\n",
    " 'fl_ev_registrations.xlsx',\n",
    " 'mi_ev_registrations_public.xlsx',\n",
    " 'mn_ev_registrations_public.xlsx',\n",
    " 'nj_ev_registrations_public.xlsx',\n",
    " 'ny_ev_registrations_public.xlsx',\n",
    " 'or_ev_registrations_public.xlsx',\n",
    " 'tx_ev_registrations_public.xlsx',\n",
    " 'va_ev_registrations_public.xlsx',\n",
    " 'vt_ev_registrations_public.xlsx',\n",
    " 'wa_ev_registrations_public.xlsx',\n",
    " 'wi_ev_registrations_public.xlsx']\n"
   ]
  },
  {
   "cell_type": "code",
   "execution_count": 23,
   "metadata": {},
   "outputs": [],
   "source": [
    "states =  ['colorado',\n",
    " 'connecticut',\n",
    " 'florida',\n",
    " 'michigan',\n",
    " 'minnesota',\n",
    " 'new jersey',\n",
    " 'new york',\n",
    " 'oregon',\n",
    " 'texas',\n",
    " 'virginia',\n",
    " 'vermont',\n",
    " 'washington',\n",
    " 'wisconsin']\n"
   ]
  },
  {
   "cell_type": "code",
   "execution_count": 24,
   "metadata": {},
   "outputs": [],
   "source": [
    "table = pd.DataFrame()\n",
    "\n",
    "search = SearchEngine(simple_zipcode=False, db_file_dir=\"./tmp\") "
   ]
  },
  {
   "cell_type": "code",
   "execution_count": 25,
   "metadata": {},
   "outputs": [
    {
     "name": "stdout",
     "output_type": "stream",
     "text": [
      "CO\n",
      "processing.. colorado  450\n",
      "CT\n",
      "processing.. connecticut  272\n",
      "FL\n",
      "processing.. florida  935\n",
      "MI\n",
      "processing.. michigan  911\n",
      "MN\n",
      "processing.. minnesota  831\n",
      "NJ\n",
      "processing.. new jersey  558\n",
      "NY\n",
      "processing.. new york  1667\n",
      "OR\n",
      "processing.. oregon  399\n",
      "TX\n",
      "processing.. texas  1745\n",
      "VA\n",
      "processing.. virginia  861\n",
      "VT\n",
      "processing.. vermont  244\n",
      "WA\n",
      "processing.. washington  530\n",
      "WI\n",
      "processing.. wisconsin  722\n"
     ]
    }
   ],
   "source": [
    "for s in states:\n",
    "    results = search.by_state(s, returns=None)\n",
    "    print ( results[0].state)\n",
    "    # build a list of dictionaries with limited set of keys\n",
    "    list_of_dict = [ {key: (dict(x.items())[key]) for key in vars} for x in results ]\n",
    "    print (\"processing..\", s + \"  \" + str(len(list_of_dict)))\n",
    "    \n",
    "    table = pd.concat([table, pd.DataFrame(list_of_dict)])"
   ]
  },
  {
   "cell_type": "markdown",
   "metadata": {},
   "source": [
    "Missing a few zipcodes apparently:\n",
    "* \"Colorado has roughly 649 zip codes\"\n",
    "* \"Florida has roughly 1469 zip codes\""
   ]
  },
  {
   "cell_type": "code",
   "execution_count": 26,
   "metadata": {},
   "outputs": [
    {
     "name": "stdout",
     "output_type": "stream",
     "text": [
      "<class 'pandas.core.frame.DataFrame'>\n",
      "Int64Index: 10125 entries, 0 to 721\n",
      "Data columns (total 53 columns):\n",
      "zipcode_type                                                                        10125 non-null object\n",
      "major_city                                                                          10125 non-null object\n",
      "post_office_city                                                                    9915 non-null object\n",
      "common_city_list                                                                    10125 non-null object\n",
      "county                                                                              10125 non-null object\n",
      "state                                                                               10125 non-null object\n",
      "lat                                                                                 9915 non-null float64\n",
      "lng                                                                                 9915 non-null float64\n",
      "timezone                                                                            9915 non-null object\n",
      "radius_in_miles                                                                     9915 non-null float64\n",
      "area_code_list                                                                      10125 non-null object\n",
      "population                                                                          9915 non-null float64\n",
      "population_density                                                                  9870 non-null float64\n",
      "land_area_in_sqmi                                                                   9915 non-null float64\n",
      "water_area_in_sqmi                                                                  9915 non-null float64\n",
      "housing_units                                                                       9915 non-null float64\n",
      "occupied_housing_units                                                              9915 non-null float64\n",
      "median_home_value                                                                   9704 non-null float64\n",
      "median_household_income                                                             9774 non-null float64\n",
      "zipcode                                                                             10125 non-null object\n",
      "population_by_year                                                                  9885 non-null object\n",
      "population_by_age                                                                   9870 non-null object\n",
      "population_by_gender                                                                9870 non-null object\n",
      "population_by_race                                                                  9870 non-null object\n",
      "head_of_household_by_age                                                            9853 non-null object\n",
      "families_vs_singles                                                                 9853 non-null object\n",
      "households_with_kids                                                                9853 non-null object\n",
      "children_by_age                                                                     9859 non-null object\n",
      "housing_type                                                                        9870 non-null object\n",
      "year_housing_was_built                                                              9833 non-null object\n",
      "housing_occupancy                                                                   9853 non-null object\n",
      "vancancy_reason                                                                     9839 non-null object\n",
      "owner_occupied_home_values                                                          9787 non-null object\n",
      "rental_properties_by_number_of_rooms                                                9663 non-null object\n",
      "monthly_rent_including_utilities_studio_apt                                         9663 non-null object\n",
      "monthly_rent_including_utilities_1_b                                                9663 non-null object\n",
      "monthly_rent_including_utilities_2_b                                                9663 non-null object\n",
      "monthly_rent_including_utilities_3plus_b                                            9663 non-null object\n",
      "employment_status                                                                   9848 non-null object\n",
      "average_household_income_over_time                                                  9885 non-null object\n",
      "household_income                                                                    9827 non-null object\n",
      "annual_individual_earnings                                                          9833 non-null object\n",
      "sources_of_household_income____percent_of_households_receiving_income               9514 non-null object\n",
      "sources_of_household_income____average_income_per_household_by_income_source        9514 non-null object\n",
      "household_investment_income____percent_of_households_receiving_investment_income    9514 non-null object\n",
      "household_investment_income____average_income_per_household_by_income_source        9514 non-null object\n",
      "household_retirement_income____percent_of_households_receiving_retirement_incom     9514 non-null object\n",
      "household_retirement_income____average_income_per_household_by_income_source        9514 non-null object\n",
      "source_of_earnings                                                                  9848 non-null object\n",
      "means_of_transportation_to_work_for_workers_16_and_over                             9825 non-null object\n",
      "travel_time_to_work_in_minutes                                                      9821 non-null object\n",
      "educational_attainment_for_population_25_and_over                                   9844 non-null object\n",
      "school_enrollment_age_3_to_17                                                       9704 non-null object\n",
      "dtypes: float64(11), object(42)\n",
      "memory usage: 4.2+ MB\n"
     ]
    }
   ],
   "source": [
    "table.info()"
   ]
  },
  {
   "cell_type": "code",
   "execution_count": 28,
   "metadata": {},
   "outputs": [
    {
     "data": {
      "text/html": [
       "<div>\n",
       "<style scoped>\n",
       "    .dataframe tbody tr th:only-of-type {\n",
       "        vertical-align: middle;\n",
       "    }\n",
       "\n",
       "    .dataframe tbody tr th {\n",
       "        vertical-align: top;\n",
       "    }\n",
       "\n",
       "    .dataframe thead th {\n",
       "        text-align: right;\n",
       "    }\n",
       "</style>\n",
       "<table border=\"1\" class=\"dataframe\">\n",
       "  <thead>\n",
       "    <tr style=\"text-align: right;\">\n",
       "      <th></th>\n",
       "      <th>zipcode_type</th>\n",
       "      <th>major_city</th>\n",
       "      <th>post_office_city</th>\n",
       "      <th>common_city_list</th>\n",
       "      <th>county</th>\n",
       "      <th>state</th>\n",
       "      <th>lat</th>\n",
       "      <th>lng</th>\n",
       "      <th>timezone</th>\n",
       "      <th>radius_in_miles</th>\n",
       "      <th>...</th>\n",
       "      <th>sources_of_household_income____average_income_per_household_by_income_source</th>\n",
       "      <th>household_investment_income____percent_of_households_receiving_investment_income</th>\n",
       "      <th>household_investment_income____average_income_per_household_by_income_source</th>\n",
       "      <th>household_retirement_income____percent_of_households_receiving_retirement_incom</th>\n",
       "      <th>household_retirement_income____average_income_per_household_by_income_source</th>\n",
       "      <th>source_of_earnings</th>\n",
       "      <th>means_of_transportation_to_work_for_workers_16_and_over</th>\n",
       "      <th>travel_time_to_work_in_minutes</th>\n",
       "      <th>educational_attainment_for_population_25_and_over</th>\n",
       "      <th>school_enrollment_age_3_to_17</th>\n",
       "    </tr>\n",
       "  </thead>\n",
       "  <tbody>\n",
       "    <tr>\n",
       "      <td>0</td>\n",
       "      <td>Standard</td>\n",
       "      <td>Arvada</td>\n",
       "      <td>Arvada, CO</td>\n",
       "      <td>[Arvada]</td>\n",
       "      <td>Jefferson County</td>\n",
       "      <td>CO</td>\n",
       "      <td>39.79</td>\n",
       "      <td>-105.10</td>\n",
       "      <td>Mountain</td>\n",
       "      <td>4.0</td>\n",
       "      <td>...</td>\n",
       "      <td>[{'key': 'Data', 'values': [{'x': 'Wages', 'y'...</td>\n",
       "      <td>[{'key': 'Data', 'values': [{'x': 'Interest', ...</td>\n",
       "      <td>[{'key': 'Data', 'values': [{'x': 'Interest', ...</td>\n",
       "      <td>[{'key': 'Data', 'values': [{'x': 'IRA Distrib...</td>\n",
       "      <td>[{'key': 'Data', 'values': [{'x': 'IRA Distrib...</td>\n",
       "      <td>[{'key': 'Data', 'values': [{'x': 'Worked Full...</td>\n",
       "      <td>[{'key': 'Data', 'values': [{'x': 'Car, Truck,...</td>\n",
       "      <td>[{'key': 'Data', 'values': [{'x': '&lt; 10', 'y':...</td>\n",
       "      <td>[{'key': 'Data', 'values': [{'x': 'Less Than H...</td>\n",
       "      <td>[{'key': 'Data', 'values': [{'x': 'Enrolled In...</td>\n",
       "    </tr>\n",
       "    <tr>\n",
       "      <td>1</td>\n",
       "      <td>Standard</td>\n",
       "      <td>Arvada</td>\n",
       "      <td>Arvada, CO</td>\n",
       "      <td>[Arvada, Westminster]</td>\n",
       "      <td>Jefferson County</td>\n",
       "      <td>CO</td>\n",
       "      <td>39.83</td>\n",
       "      <td>-105.06</td>\n",
       "      <td>Mountain</td>\n",
       "      <td>3.0</td>\n",
       "      <td>...</td>\n",
       "      <td>[{'key': 'Data', 'values': [{'x': 'Wages', 'y'...</td>\n",
       "      <td>[{'key': 'Data', 'values': [{'x': 'Interest', ...</td>\n",
       "      <td>[{'key': 'Data', 'values': [{'x': 'Interest', ...</td>\n",
       "      <td>[{'key': 'Data', 'values': [{'x': 'IRA Distrib...</td>\n",
       "      <td>[{'key': 'Data', 'values': [{'x': 'IRA Distrib...</td>\n",
       "      <td>[{'key': 'Data', 'values': [{'x': 'Worked Full...</td>\n",
       "      <td>[{'key': 'Data', 'values': [{'x': 'Car, Truck,...</td>\n",
       "      <td>[{'key': 'Data', 'values': [{'x': '&lt; 10', 'y':...</td>\n",
       "      <td>[{'key': 'Data', 'values': [{'x': 'Less Than H...</td>\n",
       "      <td>[{'key': 'Data', 'values': [{'x': 'Enrolled In...</td>\n",
       "    </tr>\n",
       "    <tr>\n",
       "      <td>2</td>\n",
       "      <td>Standard</td>\n",
       "      <td>Arvada</td>\n",
       "      <td>Arvada, CO</td>\n",
       "      <td>[Arvada]</td>\n",
       "      <td>Jefferson County</td>\n",
       "      <td>CO</td>\n",
       "      <td>39.81</td>\n",
       "      <td>-105.12</td>\n",
       "      <td>Mountain</td>\n",
       "      <td>3.0</td>\n",
       "      <td>...</td>\n",
       "      <td>[{'key': 'Data', 'values': [{'x': 'Wages', 'y'...</td>\n",
       "      <td>[{'key': 'Data', 'values': [{'x': 'Interest', ...</td>\n",
       "      <td>[{'key': 'Data', 'values': [{'x': 'Interest', ...</td>\n",
       "      <td>[{'key': 'Data', 'values': [{'x': 'IRA Distrib...</td>\n",
       "      <td>[{'key': 'Data', 'values': [{'x': 'IRA Distrib...</td>\n",
       "      <td>[{'key': 'Data', 'values': [{'x': 'Worked Full...</td>\n",
       "      <td>[{'key': 'Data', 'values': [{'x': 'Car, Truck,...</td>\n",
       "      <td>[{'key': 'Data', 'values': [{'x': '&lt; 10', 'y':...</td>\n",
       "      <td>[{'key': 'Data', 'values': [{'x': 'Less Than H...</td>\n",
       "      <td>[{'key': 'Data', 'values': [{'x': 'Enrolled In...</td>\n",
       "    </tr>\n",
       "    <tr>\n",
       "      <td>3</td>\n",
       "      <td>Standard</td>\n",
       "      <td>Arvada</td>\n",
       "      <td>Arvada, CO</td>\n",
       "      <td>[Arvada, Westminster]</td>\n",
       "      <td>Jefferson County</td>\n",
       "      <td>CO</td>\n",
       "      <td>39.85</td>\n",
       "      <td>-105.12</td>\n",
       "      <td>Mountain</td>\n",
       "      <td>3.0</td>\n",
       "      <td>...</td>\n",
       "      <td>[{'key': 'Data', 'values': [{'x': 'Wages', 'y'...</td>\n",
       "      <td>[{'key': 'Data', 'values': [{'x': 'Interest', ...</td>\n",
       "      <td>[{'key': 'Data', 'values': [{'x': 'Interest', ...</td>\n",
       "      <td>[{'key': 'Data', 'values': [{'x': 'IRA Distrib...</td>\n",
       "      <td>[{'key': 'Data', 'values': [{'x': 'IRA Distrib...</td>\n",
       "      <td>[{'key': 'Data', 'values': [{'x': 'Worked Full...</td>\n",
       "      <td>[{'key': 'Data', 'values': [{'x': 'Car, Truck,...</td>\n",
       "      <td>[{'key': 'Data', 'values': [{'x': '&lt; 10', 'y':...</td>\n",
       "      <td>[{'key': 'Data', 'values': [{'x': 'Less Than H...</td>\n",
       "      <td>[{'key': 'Data', 'values': [{'x': 'Enrolled In...</td>\n",
       "    </tr>\n",
       "    <tr>\n",
       "      <td>4</td>\n",
       "      <td>Standard</td>\n",
       "      <td>Arvada</td>\n",
       "      <td>Arvada, CO</td>\n",
       "      <td>[Arvada]</td>\n",
       "      <td>Jefferson County</td>\n",
       "      <td>CO</td>\n",
       "      <td>39.87</td>\n",
       "      <td>-105.22</td>\n",
       "      <td>Mountain</td>\n",
       "      <td>5.0</td>\n",
       "      <td>...</td>\n",
       "      <td>[{'key': 'Data', 'values': [{'x': 'Wages', 'y'...</td>\n",
       "      <td>[{'key': 'Data', 'values': [{'x': 'Interest', ...</td>\n",
       "      <td>[{'key': 'Data', 'values': [{'x': 'Interest', ...</td>\n",
       "      <td>[{'key': 'Data', 'values': [{'x': 'IRA Distrib...</td>\n",
       "      <td>[{'key': 'Data', 'values': [{'x': 'IRA Distrib...</td>\n",
       "      <td>[{'key': 'Data', 'values': [{'x': 'Worked Full...</td>\n",
       "      <td>[{'key': 'Data', 'values': [{'x': 'Car, Truck,...</td>\n",
       "      <td>[{'key': 'Data', 'values': [{'x': '&lt; 10', 'y':...</td>\n",
       "      <td>[{'key': 'Data', 'values': [{'x': 'Less Than H...</td>\n",
       "      <td>[{'key': 'Data', 'values': [{'x': 'Enrolled In...</td>\n",
       "    </tr>\n",
       "  </tbody>\n",
       "</table>\n",
       "<p>5 rows × 53 columns</p>\n",
       "</div>"
      ],
      "text/plain": [
       "  zipcode_type major_city post_office_city       common_city_list  \\\n",
       "0     Standard     Arvada       Arvada, CO               [Arvada]   \n",
       "1     Standard     Arvada       Arvada, CO  [Arvada, Westminster]   \n",
       "2     Standard     Arvada       Arvada, CO               [Arvada]   \n",
       "3     Standard     Arvada       Arvada, CO  [Arvada, Westminster]   \n",
       "4     Standard     Arvada       Arvada, CO               [Arvada]   \n",
       "\n",
       "             county state    lat     lng  timezone  radius_in_miles  ...  \\\n",
       "0  Jefferson County    CO  39.79 -105.10  Mountain              4.0  ...   \n",
       "1  Jefferson County    CO  39.83 -105.06  Mountain              3.0  ...   \n",
       "2  Jefferson County    CO  39.81 -105.12  Mountain              3.0  ...   \n",
       "3  Jefferson County    CO  39.85 -105.12  Mountain              3.0  ...   \n",
       "4  Jefferson County    CO  39.87 -105.22  Mountain              5.0  ...   \n",
       "\n",
       "  sources_of_household_income____average_income_per_household_by_income_source  \\\n",
       "0  [{'key': 'Data', 'values': [{'x': 'Wages', 'y'...                             \n",
       "1  [{'key': 'Data', 'values': [{'x': 'Wages', 'y'...                             \n",
       "2  [{'key': 'Data', 'values': [{'x': 'Wages', 'y'...                             \n",
       "3  [{'key': 'Data', 'values': [{'x': 'Wages', 'y'...                             \n",
       "4  [{'key': 'Data', 'values': [{'x': 'Wages', 'y'...                             \n",
       "\n",
       "   household_investment_income____percent_of_households_receiving_investment_income  \\\n",
       "0  [{'key': 'Data', 'values': [{'x': 'Interest', ...                                  \n",
       "1  [{'key': 'Data', 'values': [{'x': 'Interest', ...                                  \n",
       "2  [{'key': 'Data', 'values': [{'x': 'Interest', ...                                  \n",
       "3  [{'key': 'Data', 'values': [{'x': 'Interest', ...                                  \n",
       "4  [{'key': 'Data', 'values': [{'x': 'Interest', ...                                  \n",
       "\n",
       "   household_investment_income____average_income_per_household_by_income_source  \\\n",
       "0  [{'key': 'Data', 'values': [{'x': 'Interest', ...                              \n",
       "1  [{'key': 'Data', 'values': [{'x': 'Interest', ...                              \n",
       "2  [{'key': 'Data', 'values': [{'x': 'Interest', ...                              \n",
       "3  [{'key': 'Data', 'values': [{'x': 'Interest', ...                              \n",
       "4  [{'key': 'Data', 'values': [{'x': 'Interest', ...                              \n",
       "\n",
       "   household_retirement_income____percent_of_households_receiving_retirement_incom  \\\n",
       "0  [{'key': 'Data', 'values': [{'x': 'IRA Distrib...                                 \n",
       "1  [{'key': 'Data', 'values': [{'x': 'IRA Distrib...                                 \n",
       "2  [{'key': 'Data', 'values': [{'x': 'IRA Distrib...                                 \n",
       "3  [{'key': 'Data', 'values': [{'x': 'IRA Distrib...                                 \n",
       "4  [{'key': 'Data', 'values': [{'x': 'IRA Distrib...                                 \n",
       "\n",
       "   household_retirement_income____average_income_per_household_by_income_source  \\\n",
       "0  [{'key': 'Data', 'values': [{'x': 'IRA Distrib...                              \n",
       "1  [{'key': 'Data', 'values': [{'x': 'IRA Distrib...                              \n",
       "2  [{'key': 'Data', 'values': [{'x': 'IRA Distrib...                              \n",
       "3  [{'key': 'Data', 'values': [{'x': 'IRA Distrib...                              \n",
       "4  [{'key': 'Data', 'values': [{'x': 'IRA Distrib...                              \n",
       "\n",
       "                                  source_of_earnings  \\\n",
       "0  [{'key': 'Data', 'values': [{'x': 'Worked Full...   \n",
       "1  [{'key': 'Data', 'values': [{'x': 'Worked Full...   \n",
       "2  [{'key': 'Data', 'values': [{'x': 'Worked Full...   \n",
       "3  [{'key': 'Data', 'values': [{'x': 'Worked Full...   \n",
       "4  [{'key': 'Data', 'values': [{'x': 'Worked Full...   \n",
       "\n",
       "   means_of_transportation_to_work_for_workers_16_and_over  \\\n",
       "0  [{'key': 'Data', 'values': [{'x': 'Car, Truck,...         \n",
       "1  [{'key': 'Data', 'values': [{'x': 'Car, Truck,...         \n",
       "2  [{'key': 'Data', 'values': [{'x': 'Car, Truck,...         \n",
       "3  [{'key': 'Data', 'values': [{'x': 'Car, Truck,...         \n",
       "4  [{'key': 'Data', 'values': [{'x': 'Car, Truck,...         \n",
       "\n",
       "                      travel_time_to_work_in_minutes  \\\n",
       "0  [{'key': 'Data', 'values': [{'x': '< 10', 'y':...   \n",
       "1  [{'key': 'Data', 'values': [{'x': '< 10', 'y':...   \n",
       "2  [{'key': 'Data', 'values': [{'x': '< 10', 'y':...   \n",
       "3  [{'key': 'Data', 'values': [{'x': '< 10', 'y':...   \n",
       "4  [{'key': 'Data', 'values': [{'x': '< 10', 'y':...   \n",
       "\n",
       "   educational_attainment_for_population_25_and_over  \\\n",
       "0  [{'key': 'Data', 'values': [{'x': 'Less Than H...   \n",
       "1  [{'key': 'Data', 'values': [{'x': 'Less Than H...   \n",
       "2  [{'key': 'Data', 'values': [{'x': 'Less Than H...   \n",
       "3  [{'key': 'Data', 'values': [{'x': 'Less Than H...   \n",
       "4  [{'key': 'Data', 'values': [{'x': 'Less Than H...   \n",
       "\n",
       "                       school_enrollment_age_3_to_17  \n",
       "0  [{'key': 'Data', 'values': [{'x': 'Enrolled In...  \n",
       "1  [{'key': 'Data', 'values': [{'x': 'Enrolled In...  \n",
       "2  [{'key': 'Data', 'values': [{'x': 'Enrolled In...  \n",
       "3  [{'key': 'Data', 'values': [{'x': 'Enrolled In...  \n",
       "4  [{'key': 'Data', 'values': [{'x': 'Enrolled In...  \n",
       "\n",
       "[5 rows x 53 columns]"
      ]
     },
     "execution_count": 28,
     "metadata": {},
     "output_type": "execute_result"
    }
   ],
   "source": [
    "table.head()"
   ]
  },
  {
   "cell_type": "markdown",
   "metadata": {},
   "source": [
    "### Saving the table \n"
   ]
  },
  {
   "cell_type": "code",
   "execution_count": 30,
   "metadata": {},
   "outputs": [],
   "source": [
    "table.to_csv('data/uszipcode_data.csv')\n"
   ]
  },
  {
   "cell_type": "markdown",
   "metadata": {},
   "source": [
    "## Building state-zipcode pairs"
   ]
  },
  {
   "cell_type": "code",
   "execution_count": 32,
   "metadata": {},
   "outputs": [],
   "source": [
    "state_zip_pairs = table[['state','zipcode']]"
   ]
  },
  {
   "cell_type": "code",
   "execution_count": null,
   "metadata": {},
   "outputs": [],
   "source": [
    "state_zip_pairs[1000:1050]"
   ]
  },
  {
   "cell_type": "code",
   "execution_count": 36,
   "metadata": {},
   "outputs": [],
   "source": [
    "state_zip_pairs.to_csv('data/state_zip_pairs.csv')"
   ]
  },
  {
   "cell_type": "code",
   "execution_count": null,
   "metadata": {},
   "outputs": [],
   "source": []
  }
 ],
 "metadata": {
  "kernelspec": {
   "display_name": "Python 3",
   "language": "python",
   "name": "python3"
  },
  "language_info": {
   "codemirror_mode": {
    "name": "ipython",
    "version": 3
   },
   "file_extension": ".py",
   "mimetype": "text/x-python",
   "name": "python",
   "nbconvert_exporter": "python",
   "pygments_lexer": "ipython3",
   "version": "3.7.4"
  }
 },
 "nbformat": 4,
 "nbformat_minor": 4
}
