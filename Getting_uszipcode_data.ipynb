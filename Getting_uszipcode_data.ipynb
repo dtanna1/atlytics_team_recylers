{
 "cells": [
  {
   "cell_type": "markdown",
   "metadata": {},
   "source": [
    "# Demographic and Economic data per zipcode\n",
    "* Option 1: Use US census (community) data\n",
    "* Option 2: Use Python module uszipcode"
   ]
  },
  {
   "cell_type": "markdown",
   "metadata": {},
   "source": [
    " I am now using the Python module [uszipcode](https://uszipcode.readthedocs.io/index.html#)  to get demographic and economic data per zipcode. Only problem so far: it needs to be installed via pip. \n",
    "```python\n",
    "import sys\n",
    "!{sys.executable} -m pip install uszipcode\n",
    "```\n",
    "The added complexity is to ensure that only the local Jupyter environment is affected, see [Installing Python Packages from a Jupyter Notebook](https://jakevdp.github.io/blog/2017/12/05/installing-python-packages-from-jupyter/)"
   ]
  },
  {
   "cell_type": "code",
   "execution_count": null,
   "metadata": {},
   "outputs": [],
   "source": [
    "import sys\n",
    "!{sys.executable} -m pip install uszipcode"
   ]
  },
  {
   "cell_type": "markdown",
   "metadata": {},
   "source": [
    "\n",
    "## What kind of data do we have?\n",
    "\"uszipcode has two backend database, SimpleZipcode and Zipcode. Zipcode has more info, but the database file is 450MB (takes more time to download).\""
   ]
  },
  {
   "cell_type": "code",
   "execution_count": 19,
   "metadata": {},
   "outputs": [],
   "source": [
    "from uszipcode import SearchEngine"
   ]
  },
  {
   "cell_type": "code",
   "execution_count": 20,
   "metadata": {},
   "outputs": [],
   "source": [
    "zip = \"10001\"\n",
    "search = SearchEngine(simple_zipcode=True) # set simple_zipcode=False to use rich info database\n",
    "zipcode = search.by_zipcode(zip)"
   ]
  },
  {
   "cell_type": "markdown",
   "metadata": {},
   "source": [
    " Choose which directory you want to use to download the database file. \n",
    " \n",
    "```python\n",
    "  search = SearchENgine(db_file_dir=\"/tmp\")\n",
    "```\n"
   ]
  },
  {
   "cell_type": "code",
   "execution_count": 22,
   "metadata": {},
   "outputs": [
    {
     "data": {
      "text/plain": [
       "['10001',\n",
       " 'Standard',\n",
       " 'New York',\n",
       " 'New York, NY',\n",
       " ['New York'],\n",
       " 'New York County',\n",
       " 'NY',\n",
       " 40.75,\n",
       " -73.99,\n",
       " 'Eastern',\n",
       " 0.9090909090909091,\n",
       " ['718', '917', '347', '646'],\n",
       " 21102,\n",
       " 33959.0,\n",
       " 0.62,\n",
       " 0.0,\n",
       " 12476,\n",
       " 11031,\n",
       " 650200,\n",
       " 81671,\n",
       " -74.008621,\n",
       " -73.984076,\n",
       " 40.759731,\n",
       " 40.743451]"
      ]
     },
     "execution_count": 22,
     "metadata": {},
     "output_type": "execute_result"
    }
   ],
   "source": [
    "zipcode.values() # to list"
   ]
  },
  {
   "cell_type": "markdown",
   "metadata": {},
   "source": [
    "Alternatives\n",
    "```python\n",
    "zipcode.to_dict() # to dict\n",
    "zipcode.to_json() # to json\n",
    "```"
   ]
  },
  {
   "cell_type": "code",
   "execution_count": null,
   "metadata": {},
   "outputs": [],
   "source": []
  },
  {
   "cell_type": "code",
   "execution_count": null,
   "metadata": {},
   "outputs": [],
   "source": []
  },
  {
   "cell_type": "code",
   "execution_count": null,
   "metadata": {},
   "outputs": [],
   "source": []
  }
 ],
 "metadata": {
  "kernelspec": {
   "display_name": "Python 3",
   "language": "python",
   "name": "python3"
  },
  "language_info": {
   "codemirror_mode": {
    "name": "ipython",
    "version": 3
   },
   "file_extension": ".py",
   "mimetype": "text/x-python",
   "name": "python",
   "nbconvert_exporter": "python",
   "pygments_lexer": "ipython3",
   "version": "3.7.4"
  }
 },
 "nbformat": 4,
 "nbformat_minor": 4
}
