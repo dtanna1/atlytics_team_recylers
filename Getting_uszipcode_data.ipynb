{
 "cells": [
  {
   "cell_type": "markdown",
   "metadata": {},
   "source": [
    "# Demographic and Economic data per zipcode\n",
    "* Option 1: Use US census (community) data\n",
    "* Option 2: Use Python module uszipcode"
   ]
  },
  {
   "cell_type": "markdown",
   "metadata": {},
   "source": [
    " I am now using the Python module [uszipcode](https://uszipcode.readthedocs.io/index.html#)  to get demographic and economic data per zipcode. Only problem so far: it needs to be installed via pip. \n",
    "```python\n",
    "import sys\n",
    "!{sys.executable} -m pip install uszipcode\n",
    "```\n",
    "The added complexity is to ensure that only the local Jupyter environment is affected, see [Installing Python Packages from a Jupyter Notebook](https://jakevdp.github.io/blog/2017/12/05/installing-python-packages-from-jupyter/)"
   ]
  },
  {
   "cell_type": "code",
   "execution_count": null,
   "metadata": {},
   "outputs": [],
   "source": [
    "import sys\n",
    "!{sys.executable} -m pip install uszipcode"
   ]
  },
  {
   "cell_type": "markdown",
   "metadata": {},
   "source": [
    "\n",
    "## What kind of data do we have?\n",
    "\"uszipcode has two backend database, SimpleZipcode and Zipcode. Zipcode has more info, but the database file is 450MB (takes more time to download).\""
   ]
  },
  {
   "cell_type": "code",
   "execution_count": 19,
   "metadata": {},
   "outputs": [],
   "source": [
    "from uszipcode import SearchEngine"
   ]
  },
  {
   "cell_type": "code",
   "execution_count": 20,
   "metadata": {},
   "outputs": [],
   "source": [
    "zip = \"10001\"\n",
    "search = SearchEngine(simple_zipcode=True) # set simple_zipcode=False to use rich info database\n",
    "zipcode = search.by_zipcode(zip)"
   ]
  },
  {
   "cell_type": "markdown",
   "metadata": {},
   "source": [
    " Choose which directory you want to use to download the database file. \n",
    " \n",
    "```python\n",
    "  search = SearchENgine(db_file_dir=\"/tmp\")\n",
    "```\n"
   ]
  },
  {
   "cell_type": "code",
   "execution_count": 22,
   "metadata": {},
   "outputs": [
    {
     "data": {
      "text/plain": [
       "['10001',\n",
       " 'Standard',\n",
       " 'New York',\n",
       " 'New York, NY',\n",
       " ['New York'],\n",
       " 'New York County',\n",
       " 'NY',\n",
       " 40.75,\n",
       " -73.99,\n",
       " 'Eastern',\n",
       " 0.9090909090909091,\n",
       " ['718', '917', '347', '646'],\n",
       " 21102,\n",
       " 33959.0,\n",
       " 0.62,\n",
       " 0.0,\n",
       " 12476,\n",
       " 11031,\n",
       " 650200,\n",
       " 81671,\n",
       " -74.008621,\n",
       " -73.984076,\n",
       " 40.759731,\n",
       " 40.743451]"
      ]
     },
     "execution_count": 22,
     "metadata": {},
     "output_type": "execute_result"
    }
   ],
   "source": [
    "zipcode.values() # to list"
   ]
  },
  {
   "cell_type": "markdown",
   "metadata": {},
   "source": [
    "Alternatives\n",
    "```python\n",
    "zipcode.to_dict() # to dict\n",
    "zipcode.to_json() # to json\n",
    "```"
   ]
  },
  {
   "cell_type": "markdown",
   "metadata": {},
   "source": [
    "## The finer view\n",
    "\n"
   ]
  },
  {
   "cell_type": "code",
   "execution_count": null,
   "metadata": {},
   "outputs": [],
   "source": [
    "search = SearchEngine(simple_zipcode=False, db_file_dir=\"./tmp\") "
   ]
  },
  {
   "cell_type": "code",
   "execution_count": 27,
   "metadata": {},
   "outputs": [
    {
     "name": "stdout",
     "output_type": "stream",
     "text": [
      "Start downloading data for rich info zipcode database, total size 450+MB ...\n",
      "  10 MB finished ...\n",
      "  20 MB finished ...\n",
      "  30 MB finished ...\n",
      "  40 MB finished ...\n",
      "  50 MB finished ...\n",
      "  60 MB finished ...\n",
      "  70 MB finished ...\n",
      "  80 MB finished ...\n",
      "  90 MB finished ...\n",
      "  100 MB finished ...\n",
      "  110 MB finished ...\n",
      "  120 MB finished ...\n",
      "  130 MB finished ...\n",
      "  140 MB finished ...\n",
      "  150 MB finished ...\n",
      "  160 MB finished ...\n",
      "  170 MB finished ...\n",
      "  180 MB finished ...\n",
      "  190 MB finished ...\n",
      "  200 MB finished ...\n",
      "  210 MB finished ...\n",
      "  220 MB finished ...\n",
      "  230 MB finished ...\n",
      "  240 MB finished ...\n",
      "  250 MB finished ...\n",
      "  260 MB finished ...\n",
      "  270 MB finished ...\n",
      "  280 MB finished ...\n",
      "  290 MB finished ...\n",
      "  300 MB finished ...\n",
      "  310 MB finished ...\n",
      "  320 MB finished ...\n",
      "  330 MB finished ...\n",
      "  340 MB finished ...\n",
      "  350 MB finished ...\n",
      "  360 MB finished ...\n",
      "  370 MB finished ...\n",
      "  380 MB finished ...\n",
      "  390 MB finished ...\n",
      "  400 MB finished ...\n",
      "  410 MB finished ...\n",
      "  420 MB finished ...\n",
      "  430 MB finished ...\n",
      "  440 MB finished ...\n",
      "  Complete!\n"
     ]
    }
   ],
   "source": [
    "zip = \"10001\"\n",
    "zipcode = search.by_zipcode(zip)"
   ]
  },
  {
   "cell_type": "code",
   "execution_count": null,
   "metadata": {},
   "outputs": [],
   "source": [
    "zipcode.to_dict() # to dict"
   ]
  },
  {
   "cell_type": "markdown",
   "metadata": {},
   "source": [
    "## TO DO\n",
    "* Decide the variables of interest \n",
    "* Build a pandas dataframe with zipcode and variables of interest"
   ]
  },
  {
   "cell_type": "code",
   "execution_count": null,
   "metadata": {},
   "outputs": [],
   "source": []
  }
 ],
 "metadata": {
  "kernelspec": {
   "display_name": "Python 3",
   "language": "python",
   "name": "python3"
  },
  "language_info": {
   "codemirror_mode": {
    "name": "ipython",
    "version": 3
   },
   "file_extension": ".py",
   "mimetype": "text/x-python",
   "name": "python",
   "nbconvert_exporter": "python",
   "pygments_lexer": "ipython3",
   "version": "3.7.4"
  }
 },
 "nbformat": 4,
 "nbformat_minor": 4
}
