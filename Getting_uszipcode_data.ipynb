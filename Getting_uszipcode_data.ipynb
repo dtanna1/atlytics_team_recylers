{
 "cells": [
  {
   "cell_type": "markdown",
   "metadata": {},
   "source": [
    "# Demographic and Economic data per zipcode\n",
    "* Option 1: Use US census (community) data\n",
    "* Option 2: Use Python module uszipcode"
   ]
  },
  {
   "cell_type": "markdown",
   "metadata": {},
   "source": [
    " I am now using the Python module [uszipcode](https://uszipcode.readthedocs.io/index.html#)  to get demographic and economic data per zipcode. Only problem so far: it needs to be installed via pip. \n",
    "```python\n",
    "import sys\n",
    "!{sys.executable} -m pip install uszipcode\n",
    "```\n",
    "The added complexity is to ensure that only the local Jupyter environment is affected, see [Installing Python Packages from a Jupyter Notebook](https://jakevdp.github.io/blog/2017/12/05/installing-python-packages-from-jupyter/)"
   ]
  },
  {
   "cell_type": "code",
   "execution_count": 30,
   "metadata": {},
   "outputs": [
    {
     "name": "stdout",
     "output_type": "stream",
     "text": [
      "Requirement already satisfied: uszipcode in /Users/jll/opt/anaconda3/lib/python3.7/site-packages (0.2.4)\n",
      "Requirement already satisfied: sqlalchemy in /Users/jll/opt/anaconda3/lib/python3.7/site-packages (from uszipcode) (1.3.9)\n",
      "Requirement already satisfied: pathlib-mate in /Users/jll/opt/anaconda3/lib/python3.7/site-packages (from uszipcode) (0.0.15)\n",
      "Requirement already satisfied: attrs in /Users/jll/opt/anaconda3/lib/python3.7/site-packages (from uszipcode) (19.2.0)\n",
      "Requirement already satisfied: requests in /Users/jll/opt/anaconda3/lib/python3.7/site-packages (from uszipcode) (2.22.0)\n",
      "Requirement already satisfied: autopep8 in /Users/jll/opt/anaconda3/lib/python3.7/site-packages (from pathlib-mate->uszipcode) (1.4.4)\n",
      "Requirement already satisfied: six in /Users/jll/opt/anaconda3/lib/python3.7/site-packages (from pathlib-mate->uszipcode) (1.12.0)\n",
      "Requirement already satisfied: certifi>=2017.4.17 in /Users/jll/opt/anaconda3/lib/python3.7/site-packages (from requests->uszipcode) (2019.9.11)\n",
      "Requirement already satisfied: urllib3!=1.25.0,!=1.25.1,<1.26,>=1.21.1 in /Users/jll/opt/anaconda3/lib/python3.7/site-packages (from requests->uszipcode) (1.24.2)\n",
      "Requirement already satisfied: chardet<3.1.0,>=3.0.2 in /Users/jll/opt/anaconda3/lib/python3.7/site-packages (from requests->uszipcode) (3.0.4)\n",
      "Requirement already satisfied: idna<2.9,>=2.5 in /Users/jll/opt/anaconda3/lib/python3.7/site-packages (from requests->uszipcode) (2.8)\n",
      "Requirement already satisfied: pycodestyle>=2.4.0 in /Users/jll/opt/anaconda3/lib/python3.7/site-packages (from autopep8->pathlib-mate->uszipcode) (2.5.0)\n"
     ]
    }
   ],
   "source": [
    "import sys\n",
    "!{sys.executable} -m pip install uszipcode"
   ]
  },
  {
   "cell_type": "markdown",
   "metadata": {},
   "source": [
    "\n",
    "## What kind of data do we have?\n",
    "\"uszipcode has two backend database, SimpleZipcode and Zipcode. Zipcode has more info, but the database file is 450MB (takes more time to download).\""
   ]
  },
  {
   "cell_type": "code",
   "execution_count": 31,
   "metadata": {},
   "outputs": [],
   "source": [
    "from uszipcode import SearchEngine"
   ]
  },
  {
   "cell_type": "code",
   "execution_count": 32,
   "metadata": {},
   "outputs": [
    {
     "name": "stdout",
     "output_type": "stream",
     "text": [
      "Start downloading data for simple zipcode database, total size 9MB ...\n",
      "  1 MB finished ...\n",
      "  2 MB finished ...\n",
      "  3 MB finished ...\n",
      "  4 MB finished ...\n",
      "  5 MB finished ...\n",
      "  6 MB finished ...\n",
      "  7 MB finished ...\n",
      "  8 MB finished ...\n",
      "  9 MB finished ...\n",
      "  10 MB finished ...\n",
      "  Complete!\n"
     ]
    }
   ],
   "source": [
    "zip = \"10001\"\n",
    "search = SearchEngine(simple_zipcode=True, db_file_dir=\"./tmp\") # set simple_zipcode=False to use rich info database\n",
    "zipcode = search.by_zipcode(zip)"
   ]
  },
  {
   "cell_type": "markdown",
   "metadata": {},
   "source": [
    " Choose which directory you want to use to download the database file. \n",
    " \n",
    "```python\n",
    "  search = SearchENgine(db_file_dir=\"/tmp\")\n",
    "```\n"
   ]
  },
  {
   "cell_type": "code",
   "execution_count": 33,
   "metadata": {},
   "outputs": [
    {
     "data": {
      "text/plain": [
       "['10001',\n",
       " 'Standard',\n",
       " 'New York',\n",
       " 'New York, NY',\n",
       " ['New York'],\n",
       " 'New York County',\n",
       " 'NY',\n",
       " 40.75,\n",
       " -73.99,\n",
       " 'Eastern',\n",
       " 0.9090909090909091,\n",
       " ['718', '917', '347', '646'],\n",
       " 21102,\n",
       " 33959.0,\n",
       " 0.62,\n",
       " 0.0,\n",
       " 12476,\n",
       " 11031,\n",
       " 650200,\n",
       " 81671,\n",
       " -74.008621,\n",
       " -73.984076,\n",
       " 40.759731,\n",
       " 40.743451]"
      ]
     },
     "execution_count": 33,
     "metadata": {},
     "output_type": "execute_result"
    }
   ],
   "source": [
    "zipcode.values() # to list"
   ]
  },
  {
   "cell_type": "markdown",
   "metadata": {},
   "source": [
    "Alternatives\n",
    "```python\n",
    "zipcode.to_dict() # to dict\n",
    "zipcode.to_json() # to json\n",
    "```"
   ]
  },
  {
   "cell_type": "markdown",
   "metadata": {},
   "source": [
    "## The finer view\n",
    "\n"
   ]
  },
  {
   "cell_type": "code",
   "execution_count": 34,
   "metadata": {},
   "outputs": [],
   "source": [
    "search = SearchEngine(simple_zipcode=False, db_file_dir=\"./tmp\") "
   ]
  },
  {
   "cell_type": "code",
   "execution_count": 35,
   "metadata": {},
   "outputs": [],
   "source": [
    "zip = \"10001\"\n",
    "zipcode = search.by_zipcode(zip)"
   ]
  },
  {
   "cell_type": "code",
   "execution_count": 38,
   "metadata": {},
   "outputs": [
    {
     "data": {
      "text/plain": [
       "['zipcode_type',\n",
       " 'major_city',\n",
       " 'post_office_city',\n",
       " 'common_city_list',\n",
       " 'county',\n",
       " 'state',\n",
       " 'lat',\n",
       " 'lng',\n",
       " 'timezone',\n",
       " 'radius_in_miles',\n",
       " 'area_code_list',\n",
       " 'population',\n",
       " 'population_density',\n",
       " 'land_area_in_sqmi',\n",
       " 'water_area_in_sqmi',\n",
       " 'housing_units',\n",
       " 'occupied_housing_units',\n",
       " 'median_home_value',\n",
       " 'median_household_income',\n",
       " 'bounds_west',\n",
       " 'bounds_east',\n",
       " 'bounds_north',\n",
       " 'bounds_south',\n",
       " 'zipcode',\n",
       " 'polygon',\n",
       " 'population_by_year',\n",
       " 'population_by_age',\n",
       " 'population_by_gender',\n",
       " 'population_by_race',\n",
       " 'head_of_household_by_age',\n",
       " 'families_vs_singles',\n",
       " 'households_with_kids',\n",
       " 'children_by_age',\n",
       " 'housing_type',\n",
       " 'year_housing_was_built',\n",
       " 'housing_occupancy',\n",
       " 'vancancy_reason',\n",
       " 'owner_occupied_home_values',\n",
       " 'rental_properties_by_number_of_rooms',\n",
       " 'monthly_rent_including_utilities_studio_apt',\n",
       " 'monthly_rent_including_utilities_1_b',\n",
       " 'monthly_rent_including_utilities_2_b',\n",
       " 'monthly_rent_including_utilities_3plus_b',\n",
       " 'employment_status',\n",
       " 'average_household_income_over_time',\n",
       " 'household_income',\n",
       " 'annual_individual_earnings',\n",
       " 'sources_of_household_income____percent_of_households_receiving_income',\n",
       " 'sources_of_household_income____average_income_per_household_by_income_source',\n",
       " 'household_investment_income____percent_of_households_receiving_investment_income',\n",
       " 'household_investment_income____average_income_per_household_by_income_source',\n",
       " 'household_retirement_income____percent_of_households_receiving_retirement_incom',\n",
       " 'household_retirement_income____average_income_per_household_by_income_source',\n",
       " 'source_of_earnings',\n",
       " 'means_of_transportation_to_work_for_workers_16_and_over',\n",
       " 'travel_time_to_work_in_minutes',\n",
       " 'educational_attainment_for_population_25_and_over',\n",
       " 'school_enrollment_age_3_to_17']"
      ]
     },
     "execution_count": 38,
     "metadata": {},
     "output_type": "execute_result"
    }
   ],
   "source": [
    "zipcode.keys()"
   ]
  },
  {
   "cell_type": "markdown",
   "metadata": {},
   "source": [
    "## Which variables to keep?\n",
    "For space reasons, we may want to prune the database a bit."
   ]
  },
  {
   "cell_type": "code",
   "execution_count": 39,
   "metadata": {},
   "outputs": [],
   "source": [
    "vars = ['zipcode_type',\n",
    " 'major_city',\n",
    " 'post_office_city',\n",
    " 'common_city_list',\n",
    " 'county',\n",
    " 'state',\n",
    " 'lat',\n",
    " 'lng',\n",
    " 'timezone',\n",
    " 'radius_in_miles',\n",
    " 'area_code_list',\n",
    " 'population',\n",
    " 'population_density',\n",
    " 'land_area_in_sqmi',\n",
    " 'water_area_in_sqmi',\n",
    " 'housing_units',\n",
    " 'occupied_housing_units',\n",
    " 'median_home_value',\n",
    " 'median_household_income',\n",
    " \n",
    " 'zipcode',\n",
    " \n",
    " 'population_by_year',\n",
    " 'population_by_age',\n",
    " 'population_by_gender',\n",
    " 'population_by_race',\n",
    " 'head_of_household_by_age',\n",
    " 'families_vs_singles',\n",
    " 'households_with_kids',\n",
    " 'children_by_age',\n",
    " 'housing_type',\n",
    " 'year_housing_was_built',\n",
    " 'housing_occupancy',\n",
    " 'vancancy_reason',\n",
    " 'owner_occupied_home_values',\n",
    " 'rental_properties_by_number_of_rooms',\n",
    " 'monthly_rent_including_utilities_studio_apt',\n",
    " 'monthly_rent_including_utilities_1_b',\n",
    " 'monthly_rent_including_utilities_2_b',\n",
    " 'monthly_rent_including_utilities_3plus_b',\n",
    " 'employment_status',\n",
    " 'average_household_income_over_time',\n",
    " 'household_income',\n",
    " 'annual_individual_earnings',\n",
    " 'sources_of_household_income____percent_of_households_receiving_income',\n",
    " 'sources_of_household_income____average_income_per_household_by_income_source',\n",
    " 'household_investment_income____percent_of_households_receiving_investment_income',\n",
    " 'household_investment_income____average_income_per_household_by_income_source',\n",
    " 'household_retirement_income____percent_of_households_receiving_retirement_incom',\n",
    " 'household_retirement_income____average_income_per_household_by_income_source',\n",
    " 'source_of_earnings',\n",
    " 'means_of_transportation_to_work_for_workers_16_and_over',\n",
    " 'travel_time_to_work_in_minutes',\n",
    " 'educational_attainment_for_population_25_and_over',\n",
    " 'school_enrollment_age_3_to_17']\n"
   ]
  },
  {
   "cell_type": "markdown",
   "metadata": {},
   "source": [
    "## Which zipcodes to consider?\n",
    "Determined by ev hub data."
   ]
  },
  {
   "cell_type": "code",
   "execution_count": 42,
   "metadata": {},
   "outputs": [],
   "source": [
    "import pandas as pd"
   ]
  },
  {
   "cell_type": "code",
   "execution_count": null,
   "metadata": {},
   "outputs": [],
   "source": []
  },
  {
   "cell_type": "markdown",
   "metadata": {},
   "source": [
    "## TO DO\n",
    "\n",
    "* Build a pandas dataframe with zipcode and variables of interest"
   ]
  },
  {
   "cell_type": "code",
   "execution_count": null,
   "metadata": {},
   "outputs": [],
   "source": []
  }
 ],
 "metadata": {
  "kernelspec": {
   "display_name": "Python 3",
   "language": "python",
   "name": "python3"
  },
  "language_info": {
   "codemirror_mode": {
    "name": "ipython",
    "version": 3
   },
   "file_extension": ".py",
   "mimetype": "text/x-python",
   "name": "python",
   "nbconvert_exporter": "python",
   "pygments_lexer": "ipython3",
   "version": "3.7.4"
  }
 },
 "nbformat": 4,
 "nbformat_minor": 4
}
